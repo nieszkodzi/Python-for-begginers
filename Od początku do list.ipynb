{
 "cells": [
  {
   "cell_type": "code",
   "execution_count": 1,
   "metadata": {},
   "outputs": [
    {
     "data": {
      "text/plain": [
       "78.5"
      ]
     },
     "execution_count": 1,
     "metadata": {},
     "output_type": "execute_result"
    }
   ],
   "source": [
    "WartoscPi = 3.14\n",
    "PromienOkregu = 5\n",
    "PoleKola = WartoscPi*PromienOkregu**2\n",
    "PoleKola"
   ]
  },
  {
   "cell_type": "code",
   "execution_count": 4,
   "metadata": {},
   "outputs": [
    {
     "name": "stdout",
     "output_type": "stream",
     "text": [
      "This is bell: \u0007\n"
     ]
    }
   ],
   "source": [
    "print('This is bell: \\a')"
   ]
  },
  {
   "cell_type": "code",
   "execution_count": 6,
   "metadata": {},
   "outputs": [
    {
     "name": "stdout",
     "output_type": "stream",
     "text": [
      "This is just \\\\ backslash\n"
     ]
    }
   ],
   "source": [
    "# r jak raw, nie nterpretuje znaków specjalnych\n",
    "text = r'This is just \\\\ backslash'\n",
    "print(text)"
   ]
  },
  {
   "cell_type": "code",
   "execution_count": 8,
   "metadata": {},
   "outputs": [
    {
     "name": "stdout",
     "output_type": "stream",
     "text": [
      "Kasia Sowa-Mrugała\n"
     ]
    }
   ],
   "source": [
    "firstName = 'Kasia'\n",
    "lastName = 'Mrugała'\n",
    "familyName = 'Sowa'\n",
    "newName = firstName + ' ' + familyName + '-' + lastName\n",
    "print(newName)"
   ]
  },
  {
   "cell_type": "code",
   "execution_count": 15,
   "metadata": {},
   "outputs": [
    {
     "name": "stdout",
     "output_type": "stream",
     "text": [
      "\"Universal Fanfare\" Jerry Goldsmith \"Happy Together\" Garry Bonner \"I'm a Man\" Steve Winwood\n"
     ]
    }
   ],
   "source": [
    "music = '\"Universal Fanfare\" Jerry Goldsmith \"Happy Together\" Garry Bonner \"I\\'m a Man\" Steve Winwood'\n",
    "print(music)"
   ]
  },
  {
   "cell_type": "code",
   "execution_count": 16,
   "metadata": {},
   "outputs": [
    {
     "name": "stdout",
     "output_type": "stream",
     "text": [
      "\"Universal Fanfare\" Jerry Goldsmith \n",
      "\"Happy Together\" Garry Bonner \n",
      "\"I'm a Man\" Steve Winwood\n"
     ]
    }
   ],
   "source": [
    "music = '\"Universal Fanfare\" Jerry Goldsmith \\n\"Happy Together\" Garry Bonner \\n\"I\\'m a Man\" Steve Winwood'\n",
    "print(music)"
   ]
  },
  {
   "cell_type": "code",
   "execution_count": 14,
   "metadata": {},
   "outputs": [
    {
     "name": "stdout",
     "output_type": "stream",
     "text": [
      "    (\\(\\ \n",
      "    ( -.-) \n",
      "    O_(\")(\")\n"
     ]
    }
   ],
   "source": [
    "print(r\"    (\\(\\ \")\n",
    "print(r\"    ( -.-) \")\n",
    "print('    O_(\")(\")')"
   ]
  },
  {
   "cell_type": "code",
   "execution_count": 17,
   "metadata": {},
   "outputs": [],
   "source": [
    "article = '''Pierwsza seria „Latającego cyrku” miała pierwotnie dawać główne pole do popisu Cleese’owi, ten chciał jednak współpracować z innymi. Tak oto powstała zorganizowana grupa, dla której utworzono rutynowe zasady działania. Każdy dzień pisania rozpoczynał się o 9:00 rano i trwał do 17:00. Na początku typowego tygodnia pracy Cleese i Chapman pisali w odosobnieniu jako jedna spółka autorska, Jones i Palin jako druga, a Idle pisał sam. Po kilku dniach cała grupa spotykała się wraz z Gilliamem i krytykowała nawzajem swoje scenariusze oraz wymieniała poglądy. Podchodzili do pisania demokratycznie. Jeśli coś rozśmieszyło większość, zatwierdzano to jako część programu. W podobny sposób obsadzano role – nie było problemów z egocentryzmem, gdyż każdy z Pythonów czuł się bardziej autorem niż aktorem. Po dobraniu i uporządkowaniu kolejności skeczy do danego odcinka, Gilliam miał wolną rękę w łączeniu ich w całość za pomocą wymyślnych animacji, uzbrojony w kamerę, nożyczki i farbę.\n",
    "\n",
    "​\n",
    "\n",
    "Zanim wymyślono nazwę „Latający cyrk Monty Pythona”, powstało kilka innych tytułów roboczych, m.in. Owl Stretching Time (Pora rozciągania sów), Bunn, Wacket, Buzzard, Stubble and Boot, Gwen Dibley's Flying Circus (Latający Cyrk Gwen Dibley).\n",
    "\n",
    "​\n",
    "\n",
    "Zespół miał bardzo konkretny pomysł na serial i był bardzo zawiedziony, gdy Spike Milligan nagrał swój program komediowy Q5 w nieco podobnym duchu. Pythoni przyznawali się do inspiracji Milliganem, lecz styl „Latającego cyrku” jest zdecydowanie inny. Wyróżniają go szczególnie niepowtarzalne animacje Gilliama, ale także proces wzajemnej krytyki i selekcji materiału. '''"
   ]
  },
  {
   "cell_type": "code",
   "execution_count": 25,
   "metadata": {
    "collapsed": true
   },
   "outputs": [
    {
     "data": {
      "text/plain": [
       "['pierwsza',\n",
       " 'seria',\n",
       " '„latającego',\n",
       " 'cyrku”',\n",
       " 'miała',\n",
       " 'pierwotnie',\n",
       " 'dawać',\n",
       " 'główne',\n",
       " 'pole',\n",
       " 'do',\n",
       " 'popisu',\n",
       " 'cleese’owi,',\n",
       " 'ten',\n",
       " 'chciał',\n",
       " 'jednak',\n",
       " 'współpracować',\n",
       " 'z',\n",
       " 'innymi.',\n",
       " 'tak',\n",
       " 'oto',\n",
       " 'powstała',\n",
       " 'zorganizowana',\n",
       " 'grupa,',\n",
       " 'dla',\n",
       " 'której',\n",
       " 'utworzono',\n",
       " 'rutynowe',\n",
       " 'zasady',\n",
       " 'działania.',\n",
       " 'każdy',\n",
       " 'dzień',\n",
       " 'pisania',\n",
       " 'rozpoczynał',\n",
       " 'się',\n",
       " 'o',\n",
       " '9:00',\n",
       " 'rano',\n",
       " 'i',\n",
       " 'trwał',\n",
       " 'do',\n",
       " '17:00.',\n",
       " 'na',\n",
       " 'początku',\n",
       " 'typowego',\n",
       " 'tygodnia',\n",
       " 'pracy',\n",
       " 'cleese',\n",
       " 'i',\n",
       " 'chapman',\n",
       " 'pisali',\n",
       " 'w',\n",
       " 'odosobnieniu',\n",
       " 'jako',\n",
       " 'jedna',\n",
       " 'spółka',\n",
       " 'autorska,',\n",
       " 'jones',\n",
       " 'i',\n",
       " 'palin',\n",
       " 'jako',\n",
       " 'druga,',\n",
       " 'a',\n",
       " 'idle',\n",
       " 'pisał',\n",
       " 'sam.',\n",
       " 'po',\n",
       " 'kilku',\n",
       " 'dniach',\n",
       " 'cała',\n",
       " 'grupa',\n",
       " 'spotykała',\n",
       " 'się',\n",
       " 'wraz',\n",
       " 'z',\n",
       " 'gilliamem',\n",
       " 'i',\n",
       " 'krytykowała',\n",
       " 'nawzajem',\n",
       " 'swoje',\n",
       " 'scenariusze',\n",
       " 'oraz',\n",
       " 'wymieniała',\n",
       " 'poglądy.',\n",
       " 'podchodzili',\n",
       " 'do',\n",
       " 'pisania',\n",
       " 'demokratycznie.',\n",
       " 'jeśli',\n",
       " 'coś',\n",
       " 'rozśmieszyło',\n",
       " 'większość,',\n",
       " 'zatwierdzano',\n",
       " 'to',\n",
       " 'jako',\n",
       " 'część',\n",
       " 'programu.',\n",
       " 'w',\n",
       " 'podobny',\n",
       " 'sposób',\n",
       " 'obsadzano',\n",
       " 'role',\n",
       " '–',\n",
       " 'nie',\n",
       " 'było',\n",
       " 'problemów',\n",
       " 'z',\n",
       " 'egocentryzmem,',\n",
       " 'gdyż',\n",
       " 'każdy',\n",
       " 'z',\n",
       " 'pythonów',\n",
       " 'czuł',\n",
       " 'się',\n",
       " 'bardziej',\n",
       " 'autorem',\n",
       " 'niż',\n",
       " 'aktorem.',\n",
       " 'po',\n",
       " 'dobraniu',\n",
       " 'i',\n",
       " 'uporządkowaniu',\n",
       " 'kolejności',\n",
       " 'skeczy',\n",
       " 'do',\n",
       " 'danego',\n",
       " 'odcinka,',\n",
       " 'gilliam',\n",
       " 'miał',\n",
       " 'wolną',\n",
       " 'rękę',\n",
       " 'w',\n",
       " 'łączeniu',\n",
       " 'ich',\n",
       " 'w',\n",
       " 'całość',\n",
       " 'za',\n",
       " 'pomocą',\n",
       " 'wymyślnych',\n",
       " 'animacji,',\n",
       " 'uzbrojony',\n",
       " 'w',\n",
       " 'kamerę,',\n",
       " 'nożyczki',\n",
       " 'i',\n",
       " 'farbę.',\n",
       " '\\u200b',\n",
       " 'zanim',\n",
       " 'wymyślono',\n",
       " 'nazwę',\n",
       " '„latający',\n",
       " 'cyrk',\n",
       " 'flying',\n",
       " 'pythona”,',\n",
       " 'powstało',\n",
       " 'kilka',\n",
       " 'innych',\n",
       " 'tytułów',\n",
       " 'roboczych,',\n",
       " 'm.in.',\n",
       " 'owl',\n",
       " 'stretching',\n",
       " 'time',\n",
       " '(pora',\n",
       " 'rozciągania',\n",
       " 'sów),',\n",
       " 'bunn,',\n",
       " 'wacket,',\n",
       " 'buzzard,',\n",
       " 'stubble',\n",
       " 'and',\n",
       " 'boot,',\n",
       " 'gwen',\n",
       " \"dibley's\",\n",
       " 'flying',\n",
       " 'circus',\n",
       " '(latający',\n",
       " 'cyrk',\n",
       " 'gwen',\n",
       " 'dibley).',\n",
       " '\\u200b',\n",
       " 'zespół',\n",
       " 'miał',\n",
       " 'bardzo',\n",
       " 'konkretny',\n",
       " 'pomysł',\n",
       " 'na',\n",
       " 'serial',\n",
       " 'i',\n",
       " 'był',\n",
       " 'bardzo',\n",
       " 'zawiedziony,',\n",
       " 'gdy',\n",
       " 'spike',\n",
       " 'milligan',\n",
       " 'nagrał',\n",
       " 'swój',\n",
       " 'program',\n",
       " 'komediowy',\n",
       " 'q5',\n",
       " 'w',\n",
       " 'nieco',\n",
       " 'podobnym',\n",
       " 'duchu.',\n",
       " 'pythoni',\n",
       " 'przyznawali',\n",
       " 'się',\n",
       " 'do',\n",
       " 'inspiracji',\n",
       " 'milliganem,',\n",
       " 'lecz',\n",
       " 'styl',\n",
       " '„latającego',\n",
       " 'cyrku”',\n",
       " 'jest',\n",
       " 'zdecydowanie',\n",
       " 'inny.',\n",
       " 'wyróżniają',\n",
       " 'go',\n",
       " 'szczególnie',\n",
       " 'niepowtarzalne',\n",
       " 'animacje',\n",
       " 'gilliama,',\n",
       " 'ale',\n",
       " 'także',\n",
       " 'proces',\n",
       " 'wzajemnej',\n",
       " 'krytyki',\n",
       " 'i',\n",
       " 'selekcji',\n",
       " 'materiału.']"
      ]
     },
     "execution_count": 25,
     "metadata": {},
     "output_type": "execute_result"
    }
   ],
   "source": [
    "article.lower().replace(\"monty\", \"flying\").split()"
   ]
  },
  {
   "cell_type": "code",
   "execution_count": 30,
   "metadata": {},
   "outputs": [
    {
     "name": "stdout",
     "output_type": "stream",
     "text": [
      "word python appears 3 times\n"
     ]
    }
   ],
   "source": [
    "print(\"word python appears\", article.lower().count('python'), \"times\")"
   ]
  },
  {
   "cell_type": "code",
   "execution_count": 33,
   "metadata": {},
   "outputs": [
    {
     "name": "stdout",
     "output_type": "stream",
     "text": [
      "to print the \\ you need to put \\ twice in your text like this: \\\\\n"
     ]
    }
   ],
   "source": [
    "print('to print the \\\\ you need to put \\\\ twice in your text like this: \\\\\\\\')"
   ]
  },
  {
   "cell_type": "code",
   "execution_count": 34,
   "metadata": {},
   "outputs": [
    {
     "name": "stdout",
     "output_type": "stream",
     "text": [
      "The best hits of '80s!!! \n"
     ]
    }
   ],
   "source": [
    "print('The best hits of \\'80s!!! ')"
   ]
  },
  {
   "cell_type": "code",
   "execution_count": 35,
   "metadata": {},
   "outputs": [
    {
     "name": "stdout",
     "output_type": "stream",
     "text": [
      "The best hits of '80s!!! \n"
     ]
    }
   ],
   "source": [
    "print(\"The best hits of '80s!!! \")"
   ]
  },
  {
   "cell_type": "code",
   "execution_count": 38,
   "metadata": {},
   "outputs": [
    {
     "name": "stdout",
     "output_type": "stream",
     "text": [
      "cur \t exchange \t amount\n",
      "USD \t 3.65 \t 64.10958904109589\n",
      "EUR \t 4.23 \t 55.31914893617021\n"
     ]
    }
   ],
   "source": [
    "amountPLN = 234\n",
    "USD = 3.65\n",
    "EUR = 4.23\n",
    "print('cur \\t exchange \\t amount')\n",
    "print('USD \\t',USD,\"\\t\",amountPLN/USD)\n",
    "print('EUR \\t',EUR,\"\\t\",amountPLN/EUR)"
   ]
  },
  {
   "cell_type": "code",
   "execution_count": 39,
   "metadata": {},
   "outputs": [
    {
     "name": "stdout",
     "output_type": "stream",
     "text": [
      "Hello Kate!\n"
     ]
    }
   ],
   "source": [
    "helloMessage = \"Hello %s!\"\n",
    "print(helloMessage % \"Kate\")"
   ]
  },
  {
   "cell_type": "code",
   "execution_count": 40,
   "metadata": {},
   "outputs": [
    {
     "name": "stdout",
     "output_type": "stream",
     "text": [
      "Hello Chris!\n"
     ]
    }
   ],
   "source": [
    "helloMessage = \"Hello {0:s}!\" \n",
    "print(helloMessage.format('Chris'))"
   ]
  },
  {
   "cell_type": "code",
   "execution_count": 42,
   "metadata": {},
   "outputs": [
    {
     "name": "stdout",
     "output_type": "stream",
     "text": [
      "Kate has 1 animal\n",
      "Chris has 1000 $\n"
     ]
    }
   ],
   "source": [
    "helloMessage = \"%s has %d %s\"\n",
    "print(helloMessage % (\"Kate\",1,\"animal\"))\n",
    "print(helloMessage % (\"Chris\",1000,\"$\"))"
   ]
  },
  {
   "cell_type": "code",
   "execution_count": 43,
   "metadata": {},
   "outputs": [
    {
     "name": "stdout",
     "output_type": "stream",
     "text": [
      "Chris has 1000 $\n",
      "Kate has 1 animal\n"
     ]
    }
   ],
   "source": [
    "helloMessage = \"{0:s} has {1:d} {2:s}\"\n",
    "print(helloMessage.format('Chris',1000,\"$\"))\n",
    "print(helloMessage.format('Kate',1,\"animal\"))"
   ]
  },
  {
   "cell_type": "code",
   "execution_count": 50,
   "metadata": {},
   "outputs": [
    {
     "name": "stdout",
     "output_type": "stream",
     "text": [
      "ICE CREAM            costs      3 €\n",
      "TRIP TO VENICE       costs    119 €\n",
      "PIZZA HAWAI          costs      6 €\n"
     ]
    }
   ],
   "source": [
    "word = \"{0:20s} costs {1:6d} \\u20AC\"\n",
    "print(word.format('ICE CREAM',3))\n",
    "print(word.format('TRIP TO VENICE',119))\n",
    "print(word.format('PIZZA HAWAI',6))"
   ]
  },
  {
   "cell_type": "code",
   "execution_count": 52,
   "metadata": {},
   "outputs": [
    {
     "name": "stdout",
     "output_type": "stream",
     "text": [
      "Natalia is 25 years old, so is about 9125 days old.\n"
     ]
    }
   ],
   "source": [
    "name = 'Natalia'\n",
    "age = 25\n",
    "daysInYear = 365\n",
    "message = '{0:s} is {1:d} years old, so is about {2:d} days old.'\n",
    "print(message.format(name,age,daysInYear*age))"
   ]
  },
  {
   "cell_type": "code",
   "execution_count": 61,
   "metadata": {},
   "outputs": [
    {
     "name": "stdout",
     "output_type": "stream",
     "text": [
      "1234567890 divided by 12345 is  100005 and the rest is 6165\n"
     ]
    }
   ],
   "source": [
    "int1 = 1234567890\n",
    "int2 = 12345\n",
    "message = '{0:d} divided by {1:d} is  {2:d} and the rest is {3:d}'\n",
    "print(message.format(int1,int2,int1//int2,int1 % int2))"
   ]
  },
  {
   "cell_type": "code",
   "execution_count": 70,
   "metadata": {},
   "outputs": [
    {
     "name": "stdout",
     "output_type": "stream",
     "text": [
      "isAutomaticMode True\n",
      "is80PercentLight True\n",
      "isDirectLight True\n",
      "isRainy True\n",
      "turnLightsOn False\n"
     ]
    }
   ],
   "source": [
    "isAutomaticMode = True\n",
    "is80PercentLight = True\n",
    "isDirectLight = True\n",
    "isRainy = True\n",
    "turnLightsOn = isAutomaticMode == True and is80PercentLight == False and (isDirectLight == True or isRainy == True)\n",
    "\n",
    "print('isAutomaticMode',isAutomaticMode)\n",
    "print('is80PercentLight', is80PercentLight)\n",
    "print('isDirectLight',isDirectLight)\n",
    "print('isRainy',isRainy)\n",
    "print('turnLightsOn',turnLightsOn)"
   ]
  },
  {
   "cell_type": "code",
   "execution_count": 72,
   "metadata": {},
   "outputs": [
    {
     "name": "stdout",
     "output_type": "stream",
     "text": [
      "<class 'int'>\n",
      "<class 'str'>\n",
      "<class 'float'>\n",
      "<class 'str'>\n"
     ]
    }
   ],
   "source": [
    "v1 = 126\n",
    "v2 = '126'\n",
    "v3 = 126.0\n",
    "v4 = '126.0'\n",
    "print(type(v1))\n",
    "print(type(v2))\n",
    "print(type(v3))\n",
    "print(type(v4))"
   ]
  },
  {
   "cell_type": "code",
   "execution_count": 73,
   "metadata": {},
   "outputs": [
    {
     "name": "stdout",
     "output_type": "stream",
     "text": [
      "T H E Y   S E E\n"
     ]
    }
   ],
   "source": [
    "q = 'THE EYES'\n",
    "print(q[0],q[1],q[2],q[5],q[3],q[7],q[4],q[6])"
   ]
  },
  {
   "cell_type": "code",
   "execution_count": 81,
   "metadata": {},
   "outputs": [
    {
     "name": "stdout",
     "output_type": "stream",
     "text": [
      "6:00\n",
      "Pytanie na śniadanie\n"
     ]
    }
   ],
   "source": [
    "line = 'Program \"Pytanie na śniadanie\" nadamy o: 6:00'\n",
    "time = line[line.find(':')+2:]\n",
    "print(time)\n",
    "tmp = line[line.find('\"')+1:]\n",
    "title = tmp[:tmp.find('\"')]\n",
    "print(title)"
   ]
  },
  {
   "cell_type": "code",
   "execution_count": 103,
   "metadata": {},
   "outputs": [
    {
     "name": "stdout",
     "output_type": "stream",
     "text": [
      "['SOUND OF SILENCE', 'BROTHERS IN ARMS', 'BOHEMIAN RHAPSODY', 'HOTEL CALIFORNIA', 'STAIRWAY TO HEAVEN', 'RIDERS ON THE STORM', 'WISH YOU WERE HERE', 'CHILD IN TIME', 'AGAIN']\n",
      "3\n",
      "['ENJOY THE SILENCE', 'BROTHERS IN ARMS', 'BOHEMIAN RHAPSODY', 'STAIRWAY TO HEAVEN', 'RIDERS ON THE STORM', 'WISH YOU WERE HERE', 'CHILD IN TIME', 'AGAIN']\n",
      "['AGAIN', 'CHILD IN TIME', 'WISH YOU WERE HERE', 'RIDERS ON THE STORM', 'STAIRWAY TO HEAVEN', 'BOHEMIAN RHAPSODY', 'BROTHERS IN ARMS', 'ENJOY THE SILENCE']\n",
      "['AGAIN', 'BOHEMIAN RHAPSODY', 'BROTHERS IN ARMS', 'CHILD IN TIME', 'ENJOY THE SILENCE', 'RIDERS ON THE STORM', 'STAIRWAY TO HEAVEN', 'WISH YOU WERE HERE']\n",
      "['BOHEMIAN RHAPSODY', 'BROTHERS IN ARMS', 'CHILD IN TIME', 'ENJOY THE SILENCE', 'RIDERS ON THE STORM', 'STAIRWAY TO HEAVEN', 'WISH YOU WERE HERE']\n",
      "['BROTHERS IN ARMS', 'CHILD IN TIME', 'ENJOY THE SILENCE', 'RIDERS ON THE STORM', 'STAIRWAY TO HEAVEN', 'WISH YOU WERE HERE']\n"
     ]
    }
   ],
   "source": [
    "hitsTitles = ['BROTHERS IN ARMS','BOHEMIAN RHAPSODY','STAIRWAY TO HEAVEN','RIDERS ON THE STORM','WISH YOU WERE HERE']\n",
    "hitsTitles.append('CHILD IN TIME')\n",
    "hitsTitles.append('AGAIN')\n",
    "hitsTitles.insert(2, 'HOTEL CALIFORNIA')\n",
    "hitsTitles.insert(0, 'SOUND OF SILENCE')\n",
    "print(hitsTitles)\n",
    "print(hitsTitles.index('HOTEL CALIFORNIA'))\n",
    "hitsTitles.remove('HOTEL CALIFORNIA')\n",
    "hitsTitles.remove('SOUND OF SILENCE')\n",
    "hitsTitles.insert(0, 'ENJOY THE SILENCE')\n",
    "print(hitsTitles)\n",
    "\n",
    "hitsToRead = hitsTitles.copy()\n",
    "hitsToRead.reverse()\n",
    "print(hitsToRead)\n",
    "hitsToRead.sort()\n",
    "print(hitsToRead)\n",
    "hitsToRead.pop(0)\n",
    "print(hitsToRead)\n",
    "hitsToRead.pop(0)\n",
    "print(hitsToRead)"
   ]
  },
  {
   "cell_type": "code",
   "execution_count": 114,
   "metadata": {},
   "outputs": [
    {
     "name": "stdout",
     "output_type": "stream",
     "text": [
      "public relations\n",
      "['client promotion', 'investor relations', 'loyality program', 'market reaserch', 'public relations', 'internal communication']\n",
      "('client promotion', 'investor relations', 'loyality program', 'market reaserch', 'public relations', 'internal communication')\n"
     ]
    }
   ],
   "source": [
    "marketing = ['loyality program', 'client promotion', 'market reaserch']\n",
    "marketing.append('public relations')\n",
    "print(marketing[3])\n",
    "marketing.insert(2,'investor relations')\n",
    "emailMarketing = marketing.copy()\n",
    "emailMarketing.sort()\n",
    "internalEmails = ['internal communication']\n",
    "emailMarketing = emailMarketing + internalEmails\n",
    "print(emailMarketing)\n",
    "print(tuple(emailMarketing))"
   ]
  },
  {
   "cell_type": "code",
   "execution_count": 8,
   "metadata": {},
   "outputs": [
    {
     "name": "stdout",
     "output_type": "stream",
     "text": [
      "{'Google': 1480, 'Email': 300, 'Natural Traffic': 440, 'TV Spot': 700}\n",
      "300\n",
      "{'Natural Traffic': 520, 'News': 600}\n",
      "{'Google': 1480, 'Email': 300, 'Natural Traffic': 520, 'TV Spot': 700, 'News': 600}\n",
      "dict_keys(['Google', 'Email', 'Natural Traffic', 'TV Spot', 'News'])\n",
      "{'Google': 1480, 'Natural Traffic': 520, 'TV Spot': 700, 'News': 600}\n"
     ]
    }
   ],
   "source": [
    "chanels = {'Google': 1480, 'Email': 300, 'Natural Traffic': 440, 'TV Spot': 700}\n",
    "print(chanels)\n",
    "print(chanels.get('Email'))\n",
    "chanelsUpdate = {'Natural Traffic': 520, 'News': 600}\n",
    "print(chanelsUpdate)\n",
    "chanels.update(chanelsUpdate)\n",
    "print(chanels)\n",
    "print(chanels.keys())\n",
    "chanels.pop('Email')\n",
    "print(chanels)"
   ]
  },
  {
   "cell_type": "code",
   "execution_count": 9,
   "metadata": {},
   "outputs": [
    {
     "name": "stdout",
     "output_type": "stream",
     "text": [
      "Ceny pozostają niezmienione\n"
     ]
    }
   ],
   "source": [
    "like = 420\n",
    "share = 800\n",
    "\n",
    "if like >= 500 and share >= 100:\n",
    "    print('Ceny spadają o 10%')\n",
    "else:\n",
    "    print('Ceny pozostają niezmienione')"
   ]
  },
  {
   "cell_type": "code",
   "execution_count": 11,
   "metadata": {},
   "outputs": [
    {
     "name": "stdout",
     "output_type": "stream",
     "text": [
      "Nie dostajesz kuponu na burgera.\n"
     ]
    }
   ],
   "source": [
    "isPizzaOrdered = True\n",
    "isBigDrinkOrdered = False\n",
    "isWeekend = True\n",
    "\n",
    "if not isWeekend and (isPizzaOrdered or isBigDrinkOrdered):\n",
    "    print('Dostajesz kupon na burgera.')\n",
    "else:\n",
    "    print('Nie dostajesz kuponu na burgera.')"
   ]
  },
  {
   "cell_type": "code",
   "execution_count": 18,
   "metadata": {},
   "outputs": [
    {
     "name": "stdout",
     "output_type": "stream",
     "text": [
      "Ceny spadają o 10%.\n"
     ]
    }
   ],
   "source": [
    "like = 530\n",
    "share = 101\n",
    "minLike = 500\n",
    "minShare = 100\n",
    "\n",
    "if like >= minLike and share >= minShare:\n",
    "    print('Ceny spadają o 10%.')\n",
    "elif share >= minShare:\n",
    "    print('Brakuje',minLike-like,'lajków.')\n",
    "elif like >= minLike:\n",
    "    print('Brakuje',minShare-share,'udostępnień.')"
   ]
  },
  {
   "cell_type": "code",
   "execution_count": 21,
   "metadata": {},
   "outputs": [
    {
     "name": "stdout",
     "output_type": "stream",
     "text": [
      "Grypa nie jest bardzo prawdopodobna.\n"
     ]
    }
   ],
   "source": [
    "musclePain = True\n",
    "fever = False\n",
    "weakness = True\n",
    "\n",
    "print('Jesteś chory.' if musclePain and fever and weakness else \\\n",
    "      'Grypa nie jest bardzo prawdopodobna.')"
   ]
  },
  {
   "cell_type": "code",
   "execution_count": 30,
   "metadata": {},
   "outputs": [
    {
     "name": "stdout",
     "output_type": "stream",
     "text": [
      "To może być przeziębienie.\n"
     ]
    }
   ],
   "source": [
    "musclePain = False\n",
    "fever = True\n",
    "weakness = True\n",
    "\n",
    "\n",
    "if musclePain and fever and weakness:\n",
    "    print('Podejrzenie grypy.') \n",
    "elif (not fever or not weakness):\n",
    "    print('Po prostu odpocznij.')\n",
    "else:\n",
    "    print('To może być przeziębienie.')"
   ]
  },
  {
   "cell_type": "code",
   "execution_count": null,
   "metadata": {},
   "outputs": [],
   "source": []
  }
 ],
 "metadata": {
  "kernelspec": {
   "display_name": "Python 3",
   "language": "python",
   "name": "python3"
  },
  "language_info": {
   "codemirror_mode": {
    "name": "ipython",
    "version": 3
   },
   "file_extension": ".py",
   "mimetype": "text/x-python",
   "name": "python",
   "nbconvert_exporter": "python",
   "pygments_lexer": "ipython3",
   "version": "3.6.5"
  }
 },
 "nbformat": 4,
 "nbformat_minor": 2
}
